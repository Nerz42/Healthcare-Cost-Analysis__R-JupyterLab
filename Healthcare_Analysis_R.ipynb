{
 "cells": [
  {
   "cell_type": "markdown",
   "metadata": {},
   "source": [
    "# Healthcare Cost and Utilisation Analysis in R \n",
    "- (R for Jupyter Notebook)\n",
    "\n",
    "#### Background and Objective:\n",
    "\n",
    "- A nationwide survey of hospital costs conducted by the US Agency for Healthcare consists of hospital records of inpatient samples. The given data is restricted to the city of Wisconsin and relates to patients in the age group 0-17 years. The agency wants to analyze the data to research on healthcare costs and their utilization.\n",
    "\n",
    "#### Dataset Description:\n",
    "1. Age -->Age of the patient discharged\n",
    "1. Female --> A binary variable that indicates if the patient is female\n",
    "1. Los --> Length of stay in days\n",
    "1. Race --> Race of the patient (specified numerically)\n",
    "1. Totchg --> Hospital discharge costs\n",
    "1. Aprdrg --> All Patient Refined Diagnosis Related Groups\n",
    "\n",
    "#### Analysis to be done: \n",
    "\n",
    "1. To record the patient statistics, the agency wants to find the age category of people who frequent the hospital and has the maximum expenditure.\n",
    "2. In order of severity of the diagnosis and treatments and to find out the expensive treatments, the agency wants to find the diagnosis-related group that has maximum hospitalization and expenditure.\n",
    "3. To make sure that there is no malpractice, the agency needs to analyze if the race of the patient is related to the hospitalization costs.\n",
    "4. To properly utilize the costs, the agency has to analyze the severity of the hospital costs by age and gender for the proper allocation of resources.\n",
    "5. Since the length of stay is the crucial factor for inpatients, the agency wants to find if the length of stay can be predicted from age, gender, and race.\n",
    "6. To perform a complete analysis, the agency wants to find the variable that mainly affects hospital costs.\n",
    "\n",
    "----"
   ]
  },
  {
   "cell_type": "markdown",
   "metadata": {},
   "source": [
    "# SOLUTION"
   ]
  },
  {
   "cell_type": "code",
   "execution_count": 23,
   "metadata": {},
   "outputs": [],
   "source": [
    "# IMPORTING DATA\n",
    "library(\"readxl\")  \n",
    "df = read_excel(\"1555054100_hospitalcosts - Copy.xlsx\", col_names = TRUE)"
   ]
  },
  {
   "cell_type": "code",
   "execution_count": 2,
   "metadata": {},
   "outputs": [],
   "source": [
    "# IMPORTING DATA\n",
    "library(\"readxl\")  \n",
    "    # library to read excel file\n",
    "df = read_excel(file.choose())\n",
    "    # Dynamic selection for file location"
   ]
  },
  {
   "cell_type": "markdown",
   "metadata": {},
   "source": [
    "---\n",
    "## Basic EDA"
   ]
  },
  {
   "cell_type": "code",
   "execution_count": 19,
   "metadata": {},
   "outputs": [
    {
     "name": "stdout",
     "output_type": "stream",
     "text": [
      "Observations: 500\n",
      "Variables: 6\n",
      "$ AGE    <dbl> 17, 17, 17, 17, 17, 17, 17, 16, 16, 17, 17, 15, 15, 15, 15, ...\n",
      "$ FEMALE <dbl> 1, 0, 1, 1, 1, 0, 1, 1, 1, 1, 1, 0, 1, 1, 1, 1, 1, 1, 1, 1, ...\n",
      "$ LOS    <dbl> 2, 2, 7, 1, 1, 0, 4, 2, 1, 2, 2, 2, 2, 4, 7, 4, 1, 4, 3, 3, ...\n",
      "$ RACE   <dbl> 1, 1, 1, 1, 1, 1, 1, 1, 1, 1, 1, 1, 1, 1, 1, 1, 1, 1, 1, 1, ...\n",
      "$ TOTCHG <dbl> 2660, 1689, 20060, 736, 1194, 3305, 2205, 1167, 532, 1363, 1...\n",
      "$ APRDRG <dbl> 560, 753, 930, 758, 754, 347, 754, 754, 753, 758, 758, 753, ...\n"
     ]
    }
   ],
   "source": [
    "#library(dplyr) # for glimpse function\n",
    "glimpse(df)"
   ]
  },
  {
   "cell_type": "code",
   "execution_count": null,
   "metadata": {},
   "outputs": [],
   "source": [
    "            # as.data.frame( sapply(df,typeof) )   # to onlt find datatypes "
   ]
  },
  {
   "cell_type": "code",
   "execution_count": null,
   "metadata": {},
   "outputs": [],
   "source": [
    "install.packages(\"DataExplorer\", repos=\"https://cran.r-project.org\", dependencies = TRUE)"
   ]
  },
  {
   "cell_type": "code",
   "execution_count": 11,
   "metadata": {},
   "outputs": [
    {
     "data": {
      "text/html": [
       "<table>\n",
       "<thead><tr><th scope=col>AGE</th><th scope=col>FEMALE</th><th scope=col>LOS</th><th scope=col>RACE</th><th scope=col>TOTCHG</th><th scope=col>APRDRG</th></tr></thead>\n",
       "<tbody>\n",
       "\t<tr><td>17   </td><td>1    </td><td>2    </td><td>1    </td><td> 2660</td><td>560  </td></tr>\n",
       "\t<tr><td>17   </td><td>0    </td><td>2    </td><td>1    </td><td> 1689</td><td>753  </td></tr>\n",
       "\t<tr><td>17   </td><td>1    </td><td>7    </td><td>1    </td><td>20060</td><td>930  </td></tr>\n",
       "</tbody>\n",
       "</table>\n"
      ],
      "text/latex": [
       "\\begin{tabular}{r|llllll}\n",
       " AGE & FEMALE & LOS & RACE & TOTCHG & APRDRG\\\\\n",
       "\\hline\n",
       "\t 17    & 1     & 2     & 1     &  2660 & 560  \\\\\n",
       "\t 17    & 0     & 2     & 1     &  1689 & 753  \\\\\n",
       "\t 17    & 1     & 7     & 1     & 20060 & 930  \\\\\n",
       "\\end{tabular}\n"
      ],
      "text/markdown": [
       "\n",
       "AGE | FEMALE | LOS | RACE | TOTCHG | APRDRG | \n",
       "|---|---|---|\n",
       "| 17    | 1     | 2     | 1     |  2660 | 560   | \n",
       "| 17    | 0     | 2     | 1     |  1689 | 753   | \n",
       "| 17    | 1     | 7     | 1     | 20060 | 930   | \n",
       "\n",
       "\n"
      ],
      "text/plain": [
       "  AGE FEMALE LOS RACE TOTCHG APRDRG\n",
       "1 17  1      2   1     2660  560   \n",
       "2 17  0      2   1     1689  753   \n",
       "3 17  1      7   1    20060  930   "
      ]
     },
     "metadata": {},
     "output_type": "display_data"
    }
   ],
   "source": [
    "head(df,3)\n",
    "    # Viewing dataset"
   ]
  },
  {
   "cell_type": "markdown",
   "metadata": {},
   "source": [
    "#### _ _ _  _  *_Result_* _ _ _ _\n",
    "\n",
    "    1. Number of observations (rows) : 500 ---> nrow(df)\n",
    "    2. Number of variables (columns) : 6 ---> ncol(df)\n",
    "    3. Variable names : AGE | FEMALE | LOS | RACE | TOTCHG | APRDRG \n",
    "    4. Datatypes: Double "
   ]
  },
  {
   "cell_type": "code",
   "execution_count": 21,
   "metadata": {},
   "outputs": [
    {
     "data": {
      "text/html": [
       "FALSE"
      ],
      "text/latex": [
       "FALSE"
      ],
      "text/markdown": [
       "FALSE"
      ],
      "text/plain": [
       "[1] FALSE"
      ]
     },
     "metadata": {},
     "output_type": "display_data"
    },
    {
     "data": {
      "text/html": [
       "FALSE"
      ],
      "text/latex": [
       "FALSE"
      ],
      "text/markdown": [
       "FALSE"
      ],
      "text/plain": [
       "[1] FALSE"
      ]
     },
     "metadata": {},
     "output_type": "display_data"
    },
    {
     "data": {
      "text/html": [
       "FALSE"
      ],
      "text/latex": [
       "FALSE"
      ],
      "text/markdown": [
       "FALSE"
      ],
      "text/plain": [
       "[1] FALSE"
      ]
     },
     "metadata": {},
     "output_type": "display_data"
    }
   ],
   "source": [
    "is.factor(df$AGE)\n",
    "is.factor(df$FEMALE)\n",
    "is.factor(df$RACE)"
   ]
  },
  {
   "cell_type": "code",
   "execution_count": 13,
   "metadata": {},
   "outputs": [],
   "source": [
    "# install.packages(\"DataExplorer\", repos=\"https://cran.r-project.org\", dependencies = FALSE)\n",
    "\n",
    "# library(DataExplorer)\n",
    "# plot_str(df)"
   ]
  },
  {
   "cell_type": "code",
   "execution_count": 38,
   "metadata": {},
   "outputs": [
    {
     "data": {
      "image/png": "[encoded data removed]",
      "text/plain": [
       "plot without title"
      ]
     },
     "metadata": {},
     "output_type": "display_data"
    }
   ],
   "source": [
    "library(DataExplorer)\n",
    "plot_missing(df)"
   ]
  },
  {
   "cell_type": "code",
   "execution_count": 4,
   "metadata": {},
   "outputs": [
    {
     "data": {
      "text/html": [
       "<table>\n",
       "<thead><tr><th></th><th scope=col>colSums(is.na(df))</th></tr></thead>\n",
       "<tbody>\n",
       "\t<tr><th scope=row>AGE</th><td>0</td></tr>\n",
       "\t<tr><th scope=row>FEMALE</th><td>0</td></tr>\n",
       "\t<tr><th scope=row>LOS</th><td>0</td></tr>\n",
       "\t<tr><th scope=row>RACE</th><td>1</td></tr>\n",
       "\t<tr><th scope=row>TOTCHG</th><td>0</td></tr>\n",
       "\t<tr><th scope=row>APRDRG</th><td>0</td></tr>\n",
       "</tbody>\n",
       "</table>\n"
      ],
      "text/latex": [
       "\\begin{tabular}{r|l}\n",
       "  & colSums(is.na(df))\\\\\n",
       "\\hline\n",
       "\tAGE & 0\\\\\n",
       "\tFEMALE & 0\\\\\n",
       "\tLOS & 0\\\\\n",
       "\tRACE & 1\\\\\n",
       "\tTOTCHG & 0\\\\\n",
       "\tAPRDRG & 0\\\\\n",
       "\\end{tabular}\n"
      ],
      "text/markdown": [
       "\n",
       "| <!--/--> | colSums(is.na(df)) | \n",
       "|---|---|---|---|---|---|\n",
       "| AGE | 0 | \n",
       "| FEMALE | 0 | \n",
       "| LOS | 0 | \n",
       "| RACE | 1 | \n",
       "| TOTCHG | 0 | \n",
       "| APRDRG | 0 | \n",
       "\n",
       "\n"
      ],
      "text/plain": [
       "       colSums(is.na(df))\n",
       "AGE    0                 \n",
       "FEMALE 0                 \n",
       "LOS    0                 \n",
       "RACE   1                 \n",
       "TOTCHG 0                 \n",
       "APRDRG 0                 "
      ]
     },
     "metadata": {},
     "output_type": "display_data"
    }
   ],
   "source": [
    "# Checking for missing values\n",
    "as.data.frame( colSums(is.na(df)) )"
   ]
  },
  {
   "cell_type": "code",
   "execution_count": 41,
   "metadata": {},
   "outputs": [
    {
     "data": {
      "text/html": [
       "500"
      ],
      "text/latex": [
       "500"
      ],
      "text/markdown": [
       "500"
      ],
      "text/plain": [
       "[1] 500"
      ]
     },
     "metadata": {},
     "output_type": "display_data"
    }
   ],
   "source": [
    "# length(df$AGE)   # length of age col"
   ]
  },
  {
   "cell_type": "markdown",
   "metadata": {},
   "source": [
    "#### _ _ _  _  *_Result_* _ _ _ _\n",
    "\n",
    "    1. Only 1 value is missing in the RACE columns, which has 500 values\n",
    "    2. As per the plot_missing graph, this only constitues 0.02% of the missing data"
   ]
  },
  {
   "cell_type": "markdown",
   "metadata": {},
   "source": [
    "#### _FINDINGS - Basic EDA \n",
    "==================\n",
    "- _All the columns are of numeric (double) data type_\n",
    "- _There are 6 observations and around 500 observations per feature_    \n",
    "- _There is only 1 missing value in the entire dataset, from a column with 500 values (0.02%), so this can be omitted when working with the column with a missing value_"
   ]
  },
  {
   "cell_type": "markdown",
   "metadata": {},
   "source": [
    "-----------\n",
    "## Q1. *AGE CATEGORY* - HIGHEST FREQ, MAX EXPENDITURE\n",
    "----\n",
    "- Problem statement : \n",
    "    1. \"  To record the patient statistics, the agency wants to find the age category of people who frequent the hospital and has the maximum expenditure . \" "
   ]
  },
  {
   "cell_type": "code",
   "execution_count": 6,
   "metadata": {},
   "outputs": [],
   "source": [
    "df$AGE_cat = cut(df$AGE,seq(0,18,6), right=FALSE, labels = c(\"0-6\",\"7-12\",\"13-18\"))  # 3 age cateogry split"
   ]
  },
  {
   "cell_type": "code",
   "execution_count": 7,
   "metadata": {},
   "outputs": [],
   "source": [
    "FREQ = table(df$AGE_cat)   # Calc frequency of visit by age category"
   ]
  },
  {
   "cell_type": "code",
   "execution_count": 8,
   "metadata": {},
   "outputs": [],
   "source": [
    "DF1 = aggregate(TOTCHG~ AGE_cat, data=df, sum)\n",
    "    # calculate total charge, for age categories\n",
    "DF1$freq = FREQ"
   ]
  },
  {
   "cell_type": "code",
   "execution_count": 10,
   "metadata": {},
   "outputs": [
    {
     "name": "stderr",
     "output_type": "stream",
     "text": [
      "Don't know how to automatically pick scale for object of type table. Defaulting to continuous.\n"
     ]
    },
    {
     "data": {},
     "metadata": {},
     "output_type": "display_data"
    },
    {
     "data": {
      "image/png": "[encoded data removed]",
      "text/plain": [
       "plot without title"
      ]
     },
     "metadata": {},
     "output_type": "display_data",
     "source": "R display func"
    }
   ],
   "source": [
    "library(ggplot2)\n",
    "\n",
    "P1 = ggplot(data=DF1, aes(x=AGE_cat, y=FREQ)) + geom_bar(stat=\"identity\", fill=\"aquamarine\") + geom_text(label = FREQ, vjust = -0.5) + theme_classic() + labs(y=\"Frequency of visit\", x=\"Age categories\")\n",
    "    # AGE CATEGORY vs. FREQUENCY plot\n",
    "\n",
    "P2 = ggplot(data=DF1, aes(x=AGE_cat, y=TOTCHG)) + geom_bar(stat=\"identity\", fill=\"grey\") + geom_text(label = DF1$TOTCHG , vjust = -0.5) + theme_classic() + labs(y=\"Total expenditure\", x=\"Age categories\")\n",
    "    # AGE CATEGORY vs. EXPENTIURE plot\n",
    "    # passing TOTCHG and not df$TOTCHG, to avoid error\n",
    "    # geom_text -> to pass labels, vjust - adjust labels spacing from bar\n",
    "\n",
    "library(cowplot)   # To plot ggplot2 plots adjavent to each other\n",
    "plot_grid(P1,P2 , labels = c(\"VISIT FREQUENCY (by age)\",\"EXPENDITURE (by age)\"), hjust = -0.1 , vjust=2, label_size = 10, label_x = 0.4, label_colour = \"BLUE\")"
   ]
  },
  {
   "cell_type": "markdown",
   "metadata": {},
   "source": [
    "#### _FINDINGS --> Q1. Highest Frequency and Total expenditure based on Age group_\n",
    "==============================================================\n",
    "\n",
    "_1. Age group of 0-6 (Children and Infants) are most frequent to the hospital_\n",
    "\n",
    "_2. Age group 0-6 also have the highest expenditure of the three groups_     \n",
    "\n",
    "_3. Since the same group are highest for expenditure and frequency of visit, we can say that the number of hospital visits are proportional to hospital costs._"
   ]
  },
  {
   "cell_type": "markdown",
   "metadata": {},
   "source": [
    "---\n",
    "## Q2. EXPENSIVE treatment, based on DIAGNOSIS GROUP\n",
    "---\n",
    "- Problem statement : \n",
    "    1. \" In order of severity of the diagnosis and treatments and to find out the expensive treatments, the agency wants to find the diagnosis related group that has maximum hospitalization and expenditure. \" "
   ]
  },
  {
   "cell_type": "code",
   "execution_count": 11,
   "metadata": {},
   "outputs": [
    {
     "data": {
      "image/png": "[encoded data removed]",
      "text/plain": [
       "Plot with title \"Freq of Treatments\""
      ]
     },
     "metadata": {},
     "output_type": "display_data",
     "source": "R display func"
    }
   ],
   "source": [
    "hist(df$APRDRG , col = \"blue\", main = \"Freq of Treatments\",xlab = \"Treatment Categories\", labels = TRUE) "
   ]
  },
  {
   "cell_type": "code",
   "execution_count": 12,
   "metadata": {},
   "outputs": [],
   "source": [
    "# This shows a HIGH FREQUENCY for DIAGNOSIS GROUPS with ids between 600 and 700"
   ]
  },
  {
   "cell_type": "code",
   "execution_count": 15,
   "metadata": {},
   "outputs": [
    {
     "data": {
      "text/plain": [
       "\n",
       " 21  23  49  50  51  53  54  57  58  92  97 114 115 137 138 139 141 143 204 206 \n",
       "  1   1   1   1   1  10   1   2   1   1   1   1   2   1   4   5   1   1   1   1 \n",
       "225 249 254 308 313 317 344 347 420 421 422 560 561 566 580 581 602 614 626 633 \n",
       "  2   6   1   1   1   1   2   3   2   1   3   2   1   1   1   3   1   3   6   4 \n",
       "634 636 639 640 710 720 723 740 750 751 753 754 755 756 758 760 776 811 812 863 \n",
       "  2   3   4 267   1   1   2   1   1  14  36  37  13   2  20   2   1   2   3   1 \n",
       "911 930 952 \n",
       "  1   2   1 "
      ]
     },
     "metadata": {},
     "output_type": "display_data"
    }
   ],
   "source": [
    "table(df$APRDRG)  # frequency by diagnosis group"
   ]
  },
  {
   "cell_type": "code",
   "execution_count": 16,
   "metadata": {},
   "outputs": [
    {
     "data": {
      "text/html": [
       "<table>\n",
       "<thead><tr><th scope=col>APRDRG</th><th scope=col>TOTCHG</th></tr></thead>\n",
       "<tbody>\n",
       "\t<tr><td>21   </td><td>10002</td></tr>\n",
       "\t<tr><td>23   </td><td>14174</td></tr>\n",
       "\t<tr><td>49   </td><td>20195</td></tr>\n",
       "\t<tr><td>50   </td><td> 3908</td></tr>\n",
       "\t<tr><td>51   </td><td> 3023</td></tr>\n",
       "\t<tr><td>53   </td><td>82271</td></tr>\n",
       "</tbody>\n",
       "</table>\n"
      ],
      "text/latex": [
       "\\begin{tabular}{r|ll}\n",
       " APRDRG & TOTCHG\\\\\n",
       "\\hline\n",
       "\t 21    & 10002\\\\\n",
       "\t 23    & 14174\\\\\n",
       "\t 49    & 20195\\\\\n",
       "\t 50    &  3908\\\\\n",
       "\t 51    &  3023\\\\\n",
       "\t 53    & 82271\\\\\n",
       "\\end{tabular}\n"
      ],
      "text/markdown": [
       "\n",
       "APRDRG | TOTCHG | \n",
       "|---|---|---|---|---|---|\n",
       "| 21    | 10002 | \n",
       "| 23    | 14174 | \n",
       "| 49    | 20195 | \n",
       "| 50    |  3908 | \n",
       "| 51    |  3023 | \n",
       "| 53    | 82271 | \n",
       "\n",
       "\n"
      ],
      "text/plain": [
       "  APRDRG TOTCHG\n",
       "1 21     10002 \n",
       "2 23     14174 \n",
       "3 49     20195 \n",
       "4 50      3908 \n",
       "5 51      3023 \n",
       "6 53     82271 "
      ]
     },
     "metadata": {},
     "output_type": "display_data"
    }
   ],
   "source": [
    "# TOTAL CHARGE BY DIAGNOSIS GROUP\n",
    "GRP_CHG<-aggregate(TOTCHG~APRDRG,FUN = sum,data=df)  \n",
    "head(GRP_CHG)"
   ]
  },
  {
   "cell_type": "code",
   "execution_count": 17,
   "metadata": {},
   "outputs": [
    {
     "data": {
      "text/html": [
       "<table>\n",
       "<thead><tr><th></th><th scope=col>APRDRG</th><th scope=col>TOTCHG</th></tr></thead>\n",
       "<tbody>\n",
       "\t<tr><th scope=row>44</th><td>640   </td><td>437978</td></tr>\n",
       "</tbody>\n",
       "</table>\n"
      ],
      "text/latex": [
       "\\begin{tabular}{r|ll}\n",
       "  & APRDRG & TOTCHG\\\\\n",
       "\\hline\n",
       "\t44 & 640    & 437978\\\\\n",
       "\\end{tabular}\n"
      ],
      "text/markdown": [
       "\n",
       "| <!--/--> | APRDRG | TOTCHG | \n",
       "|---|\n",
       "| 44 | 640    | 437978 | \n",
       "\n",
       "\n"
      ],
      "text/plain": [
       "   APRDRG TOTCHG\n",
       "44 640    437978"
      ]
     },
     "metadata": {},
     "output_type": "display_data"
    }
   ],
   "source": [
    "GRP_CHG[which.max(GRP_CHG$TOTCHG),]\n",
    "    # Diagnosis group highest total charge"
   ]
  },
  {
   "cell_type": "markdown",
   "metadata": {},
   "source": [
    "#### _FINDINGS --> Q2. MOST EXPENSIVE treatment, based on DIAGNOSIS GROUP ?_\n",
    "==========================================================\n",
    "\n",
    "_1. Diagnosis related groups (APRDRG) of group id '640' have the highest expenditure (frequency of 44)_"
   ]
  },
  {
   "cell_type": "markdown",
   "metadata": {},
   "source": [
    "-----\n",
    "## Q3.   DOES RACE AFFECT HOSPITALISATION COSTS ?\n",
    "---\n",
    "- Problem statement : \n",
    "    1. \" To make sure that there is no malpractice, the agency needs to analyze if the race of the patient is related to the hospitalization costs \" \n",
    "- Solution : Boxplot and ANOVA :\n",
    "    1. A BOXPLOT  will show the Distribution of the Races, to show comparison\n",
    "    1. ANOVA compares MEANS between groups of interest, and determines whether means are STATISTICALLY DIFFERENT. It only CHECKS STATISTIC SIGNIFICANCE (as compared to Linear regression which helps PREDICT Y VAL)\n",
    "    2. Y var (RACE) is CATEGORICAL, hence ANOVA is chosen"
   ]
  },
  {
   "cell_type": "markdown",
   "metadata": {},
   "source": [
    "#### a) BOXPLOT showing cost distribution by RACE "
   ]
  },
  {
   "cell_type": "code",
   "execution_count": 18,
   "metadata": {},
   "outputs": [],
   "source": [
    "# Omitting missing data row - since only 1 value is missing\n",
    "df<-na.omit(df)"
   ]
  },
  {
   "cell_type": "code",
   "execution_count": 19,
   "metadata": {},
   "outputs": [],
   "source": [
    "# length(unique(df$AGE))   # CHECKING NO OF LEVELS IF NUMERICAL\n",
    "# levels(df$RACE) # checkin the lEVELS in RACE variable"
   ]
  },
  {
   "cell_type": "code",
   "execution_count": 20,
   "metadata": {},
   "outputs": [],
   "source": [
    "df$RACE<-as.factor(df$RACE)   # converting to factor, to view diff races"
   ]
  },
  {
   "cell_type": "code",
   "execution_count": 21,
   "metadata": {},
   "outputs": [
    {
     "data": {
      "text/plain": [
       "\n",
       "  1   2   3   4   5   6 \n",
       "484   6   1   3   3   2 "
      ]
     },
     "metadata": {},
     "output_type": "display_data"
    }
   ],
   "source": [
    "table(df$RACE)  # view count of different races"
   ]
  },
  {
   "cell_type": "code",
   "execution_count": 23,
   "metadata": {},
   "outputs": [
    {
     "data": {},
     "metadata": {},
     "output_type": "display_data"
    },
    {
     "data": {
      "image/png": "[encoded data removed]",
      "text/plain": [
       "plot without title"
      ]
     },
     "metadata": {},
     "output_type": "display_data",
     "source": "R display func"
    }
   ],
   "source": [
    "library(ggplot2)\n",
    "\n",
    "ggplot(df, aes(x=RACE, y=TOTCHG)) + geom_boxplot(fill=\"aquamarine\", color=\"black\") + scale_x_discrete() + xlab(\"RACE\") + ylab(\"COST\")\n",
    "\n",
    "# P1 = ggplot(data=DF1, aes(x=AGE_cat, y=FREQ)) + geom_bar(stat=\"identity\", fill=\"aquamarine\") + geom_text(label = FREQ, vjust = -0.5) + theme_classic() + labs(y=\"Frequency of visit\", x=\"Age categories\")\n",
    "    # AGE CATEGORY vs. FREQUENCY plot"
   ]
  },
  {
   "cell_type": "markdown",
   "metadata": {},
   "source": [
    "#### B) LINEAR MODEL showing affect of DIFFERENT RACE on variable TOTAL CHARGE "
   ]
  },
  {
   "cell_type": "code",
   "execution_count": 24,
   "metadata": {},
   "outputs": [
    {
     "data": {
      "text/plain": [
       "\n",
       "Call:\n",
       "lm(formula = TOTCHG ~ RACE, data = df)\n",
       "\n",
       "Residuals:\n",
       "   Min     1Q Median     3Q    Max \n",
       " -3049  -1551  -1223   -238  45615 \n",
       "\n",
       "Coefficients:\n",
       "            Estimate Std. Error t value Pr(>|t|)    \n",
       "(Intercept)   2772.7      177.6  15.615   <2e-16 ***\n",
       "RACE2         1429.5     1604.7   0.891    0.373    \n",
       "RACE3          268.3     3910.5   0.069    0.945    \n",
       "RACE4         -428.0     2262.4  -0.189    0.850    \n",
       "RACE5         -746.0     2262.4  -0.330    0.742    \n",
       "RACE6        -1423.7     2768.0  -0.514    0.607    \n",
       "---\n",
       "Signif. codes:  0 '***' 0.001 '**' 0.01 '*' 0.05 '.' 0.1 ' ' 1\n",
       "\n",
       "Residual standard error: 3906 on 493 degrees of freedom\n",
       "Multiple R-squared:  0.002465,\tAdjusted R-squared:  -0.007652 \n",
       "F-statistic: 0.2437 on 5 and 493 DF,  p-value: 0.9429\n"
      ]
     },
     "metadata": {},
     "output_type": "display_data"
    }
   ],
   "source": [
    "MODEL <- lm(TOTCHG~RACE,data=df)\n",
    "summary(MODEL)"
   ]
  },
  {
   "cell_type": "markdown",
   "metadata": {},
   "source": [
    "-\n",
    "#### _LINEAR MODEL findings_ \n",
    "===================\n",
    "- _HIGH- RESIDUAL STANDARD ERROR and P VALUE indicates there is NO RELATION between RACE and CHARGES_"
   ]
  },
  {
   "cell_type": "code",
   "execution_count": 25,
   "metadata": {},
   "outputs": [
    {
     "data": {
      "text/html": [
       "<table>\n",
       "<thead><tr><th></th><th scope=col>Df</th><th scope=col>Sum Sq</th><th scope=col>Mean Sq</th><th scope=col>F value</th><th scope=col>Pr(&gt;F)</th></tr></thead>\n",
       "<tbody>\n",
       "\t<tr><th scope=row>RACE</th><td>  5       </td><td>  18593279</td><td> 3718656  </td><td>0.2436755 </td><td>0.9428886 </td></tr>\n",
       "\t<tr><th scope=row>Residuals</th><td>493       </td><td>7523518505</td><td>15260687  </td><td>       NA </td><td>       NA </td></tr>\n",
       "</tbody>\n",
       "</table>\n"
      ],
      "text/latex": [
       "\\begin{tabular}{r|lllll}\n",
       "  & Df & Sum Sq & Mean Sq & F value & Pr(>F)\\\\\n",
       "\\hline\n",
       "\tRACE &   5        &   18593279 &  3718656   & 0.2436755  & 0.9428886 \\\\\n",
       "\tResiduals & 493        & 7523518505 & 15260687   &        NA  &        NA \\\\\n",
       "\\end{tabular}\n"
      ],
      "text/markdown": [
       "\n",
       "| <!--/--> | Df | Sum Sq | Mean Sq | F value | Pr(>F) | \n",
       "|---|---|\n",
       "| RACE |   5        |   18593279 |  3718656   | 0.2436755  | 0.9428886  | \n",
       "| Residuals | 493        | 7523518505 | 15260687   |        NA  |        NA  | \n",
       "\n",
       "\n"
      ],
      "text/plain": [
       "          Df  Sum Sq     Mean Sq  F value   Pr(>F)   \n",
       "RACE        5   18593279  3718656 0.2436755 0.9428886\n",
       "Residuals 493 7523518505 15260687        NA        NA"
      ]
     },
     "metadata": {},
     "output_type": "display_data"
    }
   ],
   "source": [
    "anova(MODEL)"
   ]
  },
  {
   "cell_type": "code",
   "execution_count": 26,
   "metadata": {},
   "outputs": [
    {
     "data": {
      "text/html": [
       "<table>\n",
       "<thead><tr><th></th><th scope=col>2.5 %</th><th scope=col>97.5 %</th></tr></thead>\n",
       "<tbody>\n",
       "\t<tr><th scope=row>(Intercept)</th><td> 2423.786</td><td>3121.553 </td></tr>\n",
       "\t<tr><th scope=row>RACE2</th><td>-1723.346</td><td>4582.340 </td></tr>\n",
       "\t<tr><th scope=row>RACE3</th><td>-7415.023</td><td>7951.684 </td></tr>\n",
       "\t<tr><th scope=row>RACE4</th><td>-4873.126</td><td>4017.120 </td></tr>\n",
       "\t<tr><th scope=row>RACE5</th><td>-5191.126</td><td>3699.120 </td></tr>\n",
       "\t<tr><th scope=row>RACE6</th><td>-6862.219</td><td>4014.880 </td></tr>\n",
       "</tbody>\n",
       "</table>\n"
      ],
      "text/latex": [
       "\\begin{tabular}{r|ll}\n",
       "  & 2.5 \\% & 97.5 \\%\\\\\n",
       "\\hline\n",
       "\t(Intercept) &  2423.786 & 3121.553 \\\\\n",
       "\tRACE2 & -1723.346 & 4582.340 \\\\\n",
       "\tRACE3 & -7415.023 & 7951.684 \\\\\n",
       "\tRACE4 & -4873.126 & 4017.120 \\\\\n",
       "\tRACE5 & -5191.126 & 3699.120 \\\\\n",
       "\tRACE6 & -6862.219 & 4014.880 \\\\\n",
       "\\end{tabular}\n"
      ],
      "text/markdown": [
       "\n",
       "| <!--/--> | 2.5 % | 97.5 % | \n",
       "|---|---|---|---|---|---|\n",
       "| (Intercept) |  2423.786 | 3121.553  | \n",
       "| RACE2 | -1723.346 | 4582.340  | \n",
       "| RACE3 | -7415.023 | 7951.684  | \n",
       "| RACE4 | -4873.126 | 4017.120  | \n",
       "| RACE5 | -5191.126 | 3699.120  | \n",
       "| RACE6 | -6862.219 | 4014.880  | \n",
       "\n",
       "\n"
      ],
      "text/plain": [
       "            2.5 %     97.5 %  \n",
       "(Intercept)  2423.786 3121.553\n",
       "RACE2       -1723.346 4582.340\n",
       "RACE3       -7415.023 7951.684\n",
       "RACE4       -4873.126 4017.120\n",
       "RACE5       -5191.126 3699.120\n",
       "RACE6       -6862.219 4014.880"
      ]
     },
     "metadata": {},
     "output_type": "display_data"
    }
   ],
   "source": [
    "confint(MODEL)"
   ]
  },
  {
   "cell_type": "markdown",
   "metadata": {},
   "source": [
    "-\n",
    "#### _ANOVA, CONFIDENCE INTERVAL findings_ \n",
    "=================================\n",
    "- _These model summaries show the difference between the Races_\n",
    "- _The function confint is used to calculate confidence intervals on the treatment parameters, by default 95% confidence intervals_"
   ]
  },
  {
   "cell_type": "code",
   "execution_count": 27,
   "metadata": {},
   "outputs": [
    {
     "data": {},
     "metadata": {},
     "output_type": "display_data"
    },
    {
     "data": {
      "image/png": "[encoded data removed]",
      "text/plain": [
       "plot without title"
      ]
     },
     "metadata": {},
     "output_type": "display_data",
     "source": "R display func"
    }
   ],
   "source": [
    "library(ggplot2)\n",
    "mod = data.frame(Fitted = fitted(MODEL), Residua1s = resid(MODEL), Race = df$RACE)\n",
    "\n",
    "ggplot(mod, aes(Fitted, Residua1s, colour = Race)) + geom_point()"
   ]
  },
  {
   "cell_type": "markdown",
   "metadata": {},
   "source": [
    "#### _FINDINGS --> Q3. Does Race affect Hospitalisation costs ?_\n",
    "======================================================\n",
    "1. _From this graph we see can residuals are spread and with this evidence and confidence levels we can say that there is NO MALPRACTISE and RACE of the patient is NOT RELATED TO HOPSITALISATION COST_"
   ]
  },
  {
   "cell_type": "markdown",
   "metadata": {},
   "source": [
    "---\n",
    "## Q4. *HOSPITAL COST* SEVERITY, BY *AGE* AND *GENDER*\n",
    "---\n",
    "- Problem statement : \n",
    "    1. \" To properly utilize the costs, the agency has to analyze the severity of the hospital costs by age and gender for proper allocation of resources. \" \n",
    "- Solution : Linear model:\n",
    "    1. Linear regression helps PREDICT THE VALUE of outcome variable Y (TOTCHG - Hospitalisation cost), based on one or more input predictor variables X ( AGE and GENDER)\n",
    "    2. Y var (TOTCHG) is NUMERICAL, hence Linear regression is chosen over Anova"
   ]
  },
  {
   "cell_type": "code",
   "execution_count": 28,
   "metadata": {},
   "outputs": [
    {
     "data": {
      "text/plain": [
       "\n",
       "Call:\n",
       "lm(formula = TOTCHG ~ AGE + FEMALE, data = df)\n",
       "\n",
       "Residuals:\n",
       "   Min     1Q Median     3Q    Max \n",
       " -3403  -1444   -873   -156  44950 \n",
       "\n",
       "Coefficients:\n",
       "            Estimate Std. Error t value Pr(>|t|)    \n",
       "(Intercept)  2719.45     261.42  10.403  < 2e-16 ***\n",
       "AGE            86.04      25.53   3.371 0.000808 ***\n",
       "FEMALE       -744.21     354.67  -2.098 0.036382 *  \n",
       "---\n",
       "Signif. codes:  0 '***' 0.001 '**' 0.01 '*' 0.05 '.' 0.1 ' ' 1\n",
       "\n",
       "Residual standard error: 3849 on 496 degrees of freedom\n",
       "Multiple R-squared:  0.02585,\tAdjusted R-squared:  0.02192 \n",
       "F-statistic: 6.581 on 2 and 496 DF,  p-value: 0.001511\n"
      ]
     },
     "metadata": {},
     "output_type": "display_data"
    }
   ],
   "source": [
    "LM1 = lm(TOTCHG ~ AGE+FEMALE,data=df)\n",
    "summary(LM1)"
   ]
  },
  {
   "cell_type": "markdown",
   "metadata": {},
   "source": [
    "#### _FINDINGS --> Q4. Hospital cost severity, by Age and Gender ?__\n",
    "===================================================\n",
    "\n",
    "_1. AGE is highly statistically SIGNIFICANT for analysis (as shown by HIGH SIGNIFICANCE CODE and LOW P VALUE)_\n",
    "\n",
    "_2. AGE - INCREASES TOTAL COST with a positive coefficient_\n",
    "\n",
    "_3. GENDER is also statistically SIGNIFICANT for analysis_  _GENDER - DECREASES TOTAL COST - with a negative coefficient for Female1 gender . This means that  hospitalisation costs reduces in case of female and in case of males is quite high_\n",
    " </div>"
   ]
  },
  {
   "cell_type": "markdown",
   "metadata": {},
   "source": [
    "---\n",
    "## Q5. EFFECT OF AGE, GENDER, RACE ON LENGTH OF STAY\n",
    "----\n",
    "\n",
    "- Problem statement : \n",
    "    1. \" Since the length of stay is the crucial factor for inpatients, the agency wants to find if the length of stay can be predicted from age, gender, and race. \"\n",
    "- Solution : Linear model:\n",
    "    1. Linear regression helps PREDICT THE VALUE of a outcome variable Y (LOS - Length of stay), based on one or more input predictor variables X ( AGE, GENDER, RACE)\n",
    "    2. Y var (LOS) is NUMERICAL, hence Linear regression is chosen over Anova"
   ]
  },
  {
   "cell_type": "code",
   "execution_count": 29,
   "metadata": {},
   "outputs": [
    {
     "data": {
      "text/plain": [
       "\n",
       "Call:\n",
       "lm(formula = LOS ~ AGE + FEMALE + RACE, data = df)\n",
       "\n",
       "Residuals:\n",
       "   Min     1Q Median     3Q    Max \n",
       "-3.211 -1.211 -0.857  0.143 37.789 \n",
       "\n",
       "Coefficients:\n",
       "            Estimate Std. Error t value Pr(>|t|)    \n",
       "(Intercept)  2.85687    0.23160  12.335   <2e-16 ***\n",
       "AGE         -0.03938    0.02258  -1.744   0.0818 .  \n",
       "FEMALE       0.35391    0.31292   1.131   0.2586    \n",
       "RACE2       -0.37501    1.39568  -0.269   0.7883    \n",
       "RACE3        0.78922    3.38581   0.233   0.8158    \n",
       "RACE4        0.59493    1.95716   0.304   0.7613    \n",
       "RACE5       -0.85687    1.96273  -0.437   0.6626    \n",
       "RACE6       -0.71879    2.39295  -0.300   0.7640    \n",
       "---\n",
       "Signif. codes:  0 '***' 0.001 '**' 0.01 '*' 0.05 '.' 0.1 ' ' 1\n",
       "\n",
       "Residual standard error: 3.376 on 491 degrees of freedom\n",
       "Multiple R-squared:  0.008699,\tAdjusted R-squared:  -0.005433 \n",
       "F-statistic: 0.6156 on 7 and 491 DF,  p-value: 0.7432\n"
      ]
     },
     "metadata": {},
     "output_type": "display_data"
    }
   ],
   "source": [
    "LM2 <- lm(LOS ~ AGE+FEMALE+RACE,data=df)\n",
    "summary(LM2)"
   ]
  },
  {
   "cell_type": "markdown",
   "metadata": {},
   "source": [
    "#### _FINDINGS --> Q5. Effect of age, gender, race on LOS_\n",
    "=====================================================================    \n",
    "    \n",
    "_1. GENDER (Female), RACE is NOT STATSTICALLY SIGNIFICANT, with a significance code of ~1_\n",
    "    \n",
    "_2. AGE has LOW STATISTICAL SIGNIFICANCE, with a significance code of 0.1_    - \n",
    "   \n",
    "_3. The p value of AGE is 0.084 --> meaning that alpha = 8.4%_     \n",
    "\n",
    "_4. Alpha is greater than 5% deafult, so NULL HYPOTHESIS will be accepted_\n",
    "\n",
    "_5. Hence, we should AVOID age in analysis._ \n",
    "\n",
    "_6. So we can say that AGE, GENDER and RACE will not affect analysis, and CANNOT PREDICT LOS_\n",
    " </div>"
   ]
  },
  {
   "cell_type": "markdown",
   "metadata": {},
   "source": [
    "---\n",
    "## Q6. VARIABLE THAT MAINLY AFFECTS HOSPITAL COSTS\n",
    "---\n",
    "\n",
    "- Problem statement : \n",
    "    1. \" To perform a complete analysis, the agency wants to find the variable that mainly affects the hospital costs \"\n",
    "- Solution : Linear model:\n",
    "    1. Linear regression helps PREDICT THE VALUE  of an outcome variable Y (Hospitalisation charge - TOTCHG), based on one or more input predictor variables X ( AGE, GENDER, RACE, LOS - Length of stay, APRDRG- Diagnosis group )\n",
    "    2. Y var (TOTCHG) is NUMERICAL, hence Linear regression is chosen over Anova"
   ]
  },
  {
   "cell_type": "code",
   "execution_count": 30,
   "metadata": {},
   "outputs": [
    {
     "data": {
      "text/plain": [
       "\n",
       "Call:\n",
       "lm(formula = TOTCHG ~ ., data = df)\n",
       "\n",
       "Residuals:\n",
       "   Min     1Q Median     3Q    Max \n",
       " -6619   -598   -142    122  42948 \n",
       "\n",
       "Coefficients:\n",
       "               Estimate Std. Error t value Pr(>|t|)    \n",
       "(Intercept)   4871.8762   466.2348  10.449  < 2e-16 ***\n",
       "AGE            363.8554   108.3104   3.359 0.000842 ***\n",
       "FEMALE        -382.2773   250.7722  -1.524 0.128058    \n",
       "LOS            743.5966    35.0076  21.241  < 2e-16 ***\n",
       "RACE2          399.1694  1092.1370   0.365 0.714901    \n",
       "RACE3          318.9608  2622.4068   0.122 0.903243    \n",
       "RACE4         -244.8185  1521.4327  -0.161 0.872229    \n",
       "RACE5        -1716.5049  1530.0199  -1.122 0.262465    \n",
       "RACE6         -691.5735  1854.7700  -0.373 0.709413    \n",
       "APRDRG          -7.5750     0.7176 -10.556  < 2e-16 ***\n",
       "AGE_cat7-12  -2072.7362  1149.8207  -1.803 0.072060 .  \n",
       "AGE_cat13-18 -3539.5839  1639.0111  -2.160 0.031292 *  \n",
       "---\n",
       "Signif. codes:  0 '***' 0.001 '**' 0.01 '*' 0.05 '.' 0.1 ' ' 1\n",
       "\n",
       "Residual standard error: 2614 on 487 degrees of freedom\n",
       "Multiple R-squared:  0.5586,\tAdjusted R-squared:  0.5487 \n",
       "F-statistic: 56.04 on 11 and 487 DF,  p-value: < 2.2e-16\n"
      ]
     },
     "metadata": {},
     "output_type": "display_data"
    }
   ],
   "source": [
    "df$RACE<-as.factor(df$RACE) \n",
    "\n",
    "LM3 <- lm(TOTCHG ~ .,data=df)  #Using a Linear model\n",
    "summary(LM3)"
   ]
  },
  {
   "cell_type": "markdown",
   "metadata": {},
   "source": [
    "#### _FINDINGS --> Q6. Most significant variable_\n",
    "===================================\n",
    "\n",
    "_1. RACE and GENDER (\"Female\" column) don't have high impact on the costs. This is shown by LOW SIGNIFICANCE CODES_\n",
    "\n",
    "_2. AGE, LOS (Length of stay) AND APRDRG (Diagnosis related groups) are SIGNIFICANT, as shown by a very low P value_ \n",
    "\n",
    "- _day of hospitilisation increase cost by 743_\n",
    "\n",
    "- _Diagnosis related Groups (APRDRG) also affect costs_ \n",
    "\n",
    "- _Eg: Group 640 has a very high expenditure_"
   ]
  },
  {
   "cell_type": "markdown",
   "metadata": {},
   "source": [
    "# <div style=\"background-color:rgba(204,255,51,0.2); text-align:center; vertical-align: middle; padding:20px;\">  ===   END   === </div>"
   ]
  }
 ],
 "metadata": {
  "kernelspec": {
   "display_name": "Python 3",
   "language": "python",
   "name": "python3"
  },
  "language_info": {
   "codemirror_mode": {
    "name": "ipython",
    "version": 3
   },
   "file_extension": ".py",
   "mimetype": "text/x-python",
   "name": "python",
   "nbconvert_exporter": "python",
   "pygments_lexer": "ipython3",
   "version": "3.7.3"
  }
 },
 "nbformat": 4,
 "nbformat_minor": 2
}
